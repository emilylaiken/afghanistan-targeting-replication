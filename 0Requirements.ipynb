{
 "cells": [
  {
   "cell_type": "markdown",
   "id": "ecf928d6",
   "metadata": {},
   "source": [
    "# Notebook 0: Required Package Installation\n",
    "Run this notebook to install the correct versions of packages needed for the replication notebooks 1-4. Installation done with pip. It is recommended to create a new virtual environment, set the kernel of this notebook to the virtual environment, and install the requirements in the virtual environment. However, this script and subsequent use of the installed packages should work regardless of environment setup. "
   ]
  },
  {
   "cell_type": "code",
   "execution_count": 1,
   "id": "d196d922",
   "metadata": {},
   "outputs": [],
   "source": [
    "import sys"
   ]
  },
  {
   "cell_type": "code",
   "execution_count": 2,
   "id": "171e6030",
   "metadata": {},
   "outputs": [
    {
     "name": "stdout",
     "output_type": "stream",
     "text": [
      "Requirement already satisfied: numpy==1.18.5 in /home/em/.conda/envs/py3/lib/python3.7/site-packages (1.18.5)\n",
      "numpy version: 1.18.5\n"
     ]
    }
   ],
   "source": [
    "# numpy\n",
    "!{sys.executable} -m pip install numpy==1.18.5\n",
    "import numpy\n",
    "print('numpy version: {}'.format(numpy.__version__))"
   ]
  },
  {
   "cell_type": "code",
   "execution_count": 3,
   "id": "9c04ecc1",
   "metadata": {},
   "outputs": [
    {
     "name": "stdout",
     "output_type": "stream",
     "text": [
      "Requirement already satisfied: pandas==1.0.5 in /home/em/.conda/envs/py3/lib/python3.7/site-packages (1.0.5)\n",
      "Requirement already satisfied: pytz>=2017.2 in /home/em/.conda/envs/py3/lib/python3.7/site-packages (from pandas==1.0.5) (2020.1)\n",
      "Requirement already satisfied: numpy>=1.13.3 in /home/em/.conda/envs/py3/lib/python3.7/site-packages (from pandas==1.0.5) (1.18.5)\n",
      "Requirement already satisfied: python-dateutil>=2.6.1 in /home/em/.conda/envs/py3/lib/python3.7/site-packages (from pandas==1.0.5) (2.8.1)\n",
      "Requirement already satisfied: six>=1.5 in /home/em/.conda/envs/py3/lib/python3.7/site-packages (from python-dateutil>=2.6.1->pandas==1.0.5) (1.15.0)\n",
      "pandas version: 1.0.5\n"
     ]
    }
   ],
   "source": [
    "# pandas\n",
    "!{sys.executable} -m pip install pandas==1.0.5\n",
    "import pandas\n",
    "print('pandas version: {}'.format(pandas.__version__))"
   ]
  },
  {
   "cell_type": "code",
   "execution_count": 4,
   "id": "5c7456be",
   "metadata": {},
   "outputs": [
    {
     "name": "stdout",
     "output_type": "stream",
     "text": [
      "Requirement already satisfied: matplotlib==3.3.2 in /home/em/.conda/envs/py3/lib/python3.7/site-packages (3.3.2)\n",
      "Requirement already satisfied: certifi>=2020.06.20 in /home/em/.conda/envs/py3/lib/python3.7/site-packages (from matplotlib==3.3.2) (2020.12.5)\n",
      "Requirement already satisfied: cycler>=0.10 in /home/em/.conda/envs/py3/lib/python3.7/site-packages (from matplotlib==3.3.2) (0.10.0)\n",
      "Requirement already satisfied: pyparsing!=2.0.4,!=2.1.2,!=2.1.6,>=2.0.3 in /home/em/.conda/envs/py3/lib/python3.7/site-packages (from matplotlib==3.3.2) (2.4.7)\n",
      "Requirement already satisfied: pillow>=6.2.0 in /home/em/.conda/envs/py3/lib/python3.7/site-packages (from matplotlib==3.3.2) (7.1.2)\n",
      "Requirement already satisfied: numpy>=1.15 in /home/em/.conda/envs/py3/lib/python3.7/site-packages (from matplotlib==3.3.2) (1.18.5)\n",
      "Requirement already satisfied: kiwisolver>=1.0.1 in /home/em/.conda/envs/py3/lib/python3.7/site-packages (from matplotlib==3.3.2) (1.2.0)\n",
      "Requirement already satisfied: python-dateutil>=2.1 in /home/em/.conda/envs/py3/lib/python3.7/site-packages (from matplotlib==3.3.2) (2.8.1)\n",
      "Requirement already satisfied: six in /home/em/.conda/envs/py3/lib/python3.7/site-packages (from cycler>=0.10->matplotlib==3.3.2) (1.15.0)\n",
      "matplotlib version: 3.3.2\n"
     ]
    }
   ],
   "source": [
    "# matplotlib\n",
    "!{sys.executable} -m pip install matplotlib==3.3.2\n",
    "import matplotlib\n",
    "print('matplotlib version: {}'.format(matplotlib.__version__))"
   ]
  },
  {
   "cell_type": "code",
   "execution_count": 5,
   "id": "2dd01854",
   "metadata": {},
   "outputs": [
    {
     "name": "stdout",
     "output_type": "stream",
     "text": [
      "Requirement already satisfied: seaborn==0.10.1 in /home/em/.conda/envs/py3/lib/python3.7/site-packages (0.10.1)\n",
      "Requirement already satisfied: pandas>=0.22.0 in /home/em/.conda/envs/py3/lib/python3.7/site-packages (from seaborn==0.10.1) (1.0.5)\n",
      "Requirement already satisfied: scipy>=1.0.1 in /home/em/.conda/envs/py3/lib/python3.7/site-packages (from seaborn==0.10.1) (1.5.0)\n",
      "Requirement already satisfied: numpy>=1.13.3 in /home/em/.conda/envs/py3/lib/python3.7/site-packages (from seaborn==0.10.1) (1.18.5)\n",
      "Requirement already satisfied: matplotlib>=2.1.2 in /home/em/.conda/envs/py3/lib/python3.7/site-packages (from seaborn==0.10.1) (3.3.2)\n",
      "Requirement already satisfied: pytz>=2017.2 in /home/em/.conda/envs/py3/lib/python3.7/site-packages (from pandas>=0.22.0->seaborn==0.10.1) (2020.1)\n",
      "Requirement already satisfied: python-dateutil>=2.6.1 in /home/em/.conda/envs/py3/lib/python3.7/site-packages (from pandas>=0.22.0->seaborn==0.10.1) (2.8.1)\n",
      "Requirement already satisfied: pillow>=6.2.0 in /home/em/.conda/envs/py3/lib/python3.7/site-packages (from matplotlib>=2.1.2->seaborn==0.10.1) (7.1.2)\n",
      "Requirement already satisfied: pyparsing!=2.0.4,!=2.1.2,!=2.1.6,>=2.0.3 in /home/em/.conda/envs/py3/lib/python3.7/site-packages (from matplotlib>=2.1.2->seaborn==0.10.1) (2.4.7)\n",
      "Requirement already satisfied: kiwisolver>=1.0.1 in /home/em/.conda/envs/py3/lib/python3.7/site-packages (from matplotlib>=2.1.2->seaborn==0.10.1) (1.2.0)\n",
      "Requirement already satisfied: cycler>=0.10 in /home/em/.conda/envs/py3/lib/python3.7/site-packages (from matplotlib>=2.1.2->seaborn==0.10.1) (0.10.0)\n",
      "Requirement already satisfied: certifi>=2020.06.20 in /home/em/.conda/envs/py3/lib/python3.7/site-packages (from matplotlib>=2.1.2->seaborn==0.10.1) (2020.12.5)\n",
      "Requirement already satisfied: six>=1.5 in /home/em/.conda/envs/py3/lib/python3.7/site-packages (from python-dateutil>=2.6.1->pandas>=0.22.0->seaborn==0.10.1) (1.15.0)\n",
      "seaborn version: 0.10.1\n"
     ]
    }
   ],
   "source": [
    "# seaborn\n",
    "!{sys.executable} -m pip install seaborn==0.10.1\n",
    "import seaborn\n",
    "print('seaborn version: {}'.format(seaborn.__version__))"
   ]
  },
  {
   "cell_type": "code",
   "execution_count": 6,
   "id": "06482f39",
   "metadata": {},
   "outputs": [
    {
     "name": "stdout",
     "output_type": "stream",
     "text": [
      "Requirement already satisfied: scikit-learn==0.23.1 in /home/em/.conda/envs/py3/lib/python3.7/site-packages (0.23.1)\n",
      "Requirement already satisfied: joblib>=0.11 in /home/em/.conda/envs/py3/lib/python3.7/site-packages (from scikit-learn==0.23.1) (0.15.1)\n",
      "Requirement already satisfied: numpy>=1.13.3 in /home/em/.conda/envs/py3/lib/python3.7/site-packages (from scikit-learn==0.23.1) (1.18.5)\n",
      "Requirement already satisfied: threadpoolctl>=2.0.0 in /home/em/.conda/envs/py3/lib/python3.7/site-packages (from scikit-learn==0.23.1) (2.1.0)\n",
      "Requirement already satisfied: scipy>=0.19.1 in /home/em/.conda/envs/py3/lib/python3.7/site-packages (from scikit-learn==0.23.1) (1.5.0)\n",
      "sklearn version: 0.23.1\n"
     ]
    }
   ],
   "source": [
    "# scikit-learn\n",
    "!{sys.executable} -m pip install scikit-learn==0.23.1\n",
    "import sklearn\n",
    "print('sklearn version: {}'.format(sklearn.__version__))"
   ]
  },
  {
   "cell_type": "code",
   "execution_count": 7,
   "id": "d54d5718",
   "metadata": {},
   "outputs": [
    {
     "name": "stdout",
     "output_type": "stream",
     "text": [
      "Requirement already satisfied: scikit-misc==0.1.3 in /home/em/.conda/envs/py3/lib/python3.7/site-packages (0.1.3)\n",
      "Requirement already satisfied: numpy in /home/em/.conda/envs/py3/lib/python3.7/site-packages (from scikit-misc==0.1.3) (1.18.5)\n",
      "skmisc version: 0.1.3\n"
     ]
    }
   ],
   "source": [
    "# scikit-misc\n",
    "!{sys.executable} -m pip install scikit-misc==0.1.3\n",
    "import skmisc\n",
    "print('skmisc version: {}'.format(skmisc.__version__))"
   ]
  },
  {
   "cell_type": "code",
   "execution_count": 8,
   "id": "60b8338a",
   "metadata": {},
   "outputs": [
    {
     "name": "stdout",
     "output_type": "stream",
     "text": [
      "Requirement already satisfied: lightgbm==2.3.0 in /home/em/.conda/envs/py3/lib/python3.7/site-packages (2.3.0)\n",
      "Requirement already satisfied: scipy in /home/em/.conda/envs/py3/lib/python3.7/site-packages (from lightgbm==2.3.0) (1.5.0)\n",
      "Requirement already satisfied: numpy in /home/em/.conda/envs/py3/lib/python3.7/site-packages (from lightgbm==2.3.0) (1.18.5)\n",
      "Requirement already satisfied: scikit-learn in /home/em/.conda/envs/py3/lib/python3.7/site-packages (from lightgbm==2.3.0) (0.23.1)\n",
      "Requirement already satisfied: threadpoolctl>=2.0.0 in /home/em/.conda/envs/py3/lib/python3.7/site-packages (from scikit-learn->lightgbm==2.3.0) (2.1.0)\n",
      "Requirement already satisfied: joblib>=0.11 in /home/em/.conda/envs/py3/lib/python3.7/site-packages (from scikit-learn->lightgbm==2.3.0) (0.15.1)\n",
      "lightgbm version: 2.3.0\n"
     ]
    }
   ],
   "source": [
    "# lightgbm\n",
    "!{sys.executable} -m pip install lightgbm==2.3.0\n",
    "import lightgbm\n",
    "print('lightgbm version: {}'.format(lightgbm.__version__))"
   ]
  },
  {
   "cell_type": "code",
   "execution_count": 9,
   "id": "8abe6661",
   "metadata": {},
   "outputs": [
    {
     "name": "stdout",
     "output_type": "stream",
     "text": [
      "Requirement already satisfied: joblib==0.15.1 in /home/em/.conda/envs/py3/lib/python3.7/site-packages (0.15.1)\n",
      "joblib version: 0.15.1\n"
     ]
    }
   ],
   "source": [
    "# joblib\n",
    "!{sys.executable} -m pip install joblib==0.15.1\n",
    "import joblib\n",
    "print('joblib version: {}'.format(joblib.__version__))"
   ]
  }
 ],
 "metadata": {
  "kernelspec": {
   "display_name": "py3",
   "language": "python",
   "name": "py3"
  },
  "language_info": {
   "codemirror_mode": {
    "name": "ipython",
    "version": 3
   },
   "file_extension": ".py",
   "mimetype": "text/x-python",
   "name": "python",
   "nbconvert_exporter": "python",
   "pygments_lexer": "ipython3",
   "version": "3.7.7"
  }
 },
 "nbformat": 4,
 "nbformat_minor": 5
}
